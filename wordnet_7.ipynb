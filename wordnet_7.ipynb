{
 "cells": [
  {
   "cell_type": "code",
   "execution_count": null,
   "metadata": {
    "collapsed": false
   },
   "outputs": [],
   "source": [
    "from nltk.corpus import wordnet\n",
    "import json\n",
    "import re"
   ]
  },
  {
   "cell_type": "markdown",
   "metadata": {},
   "source": [
    "Загружаем топики:"
   ]
  },
  {
   "cell_type": "code",
   "execution_count": 4,
   "metadata": {
    "collapsed": true
   },
   "outputs": [],
   "source": [
    "new_topics = json.loads(open('analyzed_topics.json').read())"
   ]
  },
  {
   "cell_type": "markdown",
   "metadata": {},
   "source": [
    "Функция находит resultsn схожих топиков:"
   ]
  },
  {
   "cell_type": "code",
   "execution_count": 40,
   "metadata": {
    "collapsed": true
   },
   "outputs": [],
   "source": [
    "def add_topics(lemma, results, results_n):\n",
    "    for topic in new_topics:\n",
    "        n = re.search('(\\s|^)' + lemma.replace('_', ' ').lower() + '(\\s|$)', topic)\n",
    "        if n is not None:\n",
    "#             print(topic)\n",
    "            for i in new_topics[topic]:\n",
    "                results.add(i)\n",
    "        if len(results) >= results_n:\n",
    "            return results\n",
    "    return results"
   ]
  },
  {
   "cell_type": "code",
   "execution_count": 27,
   "metadata": {
    "collapsed": false
   },
   "outputs": [],
   "source": [
    "def sim_wordnet(word, results_n=10):\n",
    "    results = set()\n",
    "    word = word.replace(' ', '_')\n",
    "    lemmas = set()\n",
    "    \n",
    "    for syn in wordnet.synsets(word):\n",
    "        for synonym in syn.lemmas():\n",
    "            synonym_name = synonym.name().lower()\n",
    "            if synonym_name != word and synonym_name not in lemmas:\n",
    "                lemmas.add(synonym_name)\n",
    "                results = add_topics(synonym_name, word, results, results_n)\n",
    "        if len(results) >= results_n:\n",
    "            return results\n",
    "        \n",
    "    lemmas = set()\n",
    "    for syn in wordnet.synsets(word):\n",
    "        for synonym in syn.lemmas():\n",
    "            if synonym.antonyms():\n",
    "                for antonym in synonym.antonyms():\n",
    "                    antonym_name = antonym.name().lower()\n",
    "                    if antonym_name not in lemmas:\n",
    "                        lemmas.add(antonym_name)\n",
    "                        results = add_topics(antonym_name, word, results, results_n)\n",
    "        if len(results) >= results_n:\n",
    "            return results\n",
    "    \n",
    "    lemmas = set()\n",
    "    for syn in wordnet.synsets(word):\n",
    "        if syn.hypernyms():\n",
    "            for hyper in syn.hypernyms():\n",
    "                for hypernym in hyper.lemmas():\n",
    "                    hypernym_name = hypernym.name().lower()\n",
    "                    if hypernym_name not in lemmas:\n",
    "                        lemmas.add(hypernym_name)\n",
    "                        results = add_topics(hypernym_name, word, results, results_n)\n",
    "        if len(results) >= results_n:\n",
    "            return results\n",
    "        \n",
    "    lemmas = set()\n",
    "    for syn in wordnet.synsets(word):\n",
    "        if syn.hyponyms():\n",
    "            for hypo in syn.hyponyms():\n",
    "                for hyponym in hypo.lemmas():\n",
    "                    hyponym_name = hyponym.name().lower()\n",
    "                    if hyponym_name not in lemmas:\n",
    "                        lemmas.add(hyponym_name)\n",
    "                        results = add_topics(hyponym_name, word, results, results_n)\n",
    "                                   \n",
    "        if len(results) >= results_n:\n",
    "            return results\n",
    "\n",
    "    return list(results)"
   ]
  },
  {
   "cell_type": "code",
   "execution_count": 41,
   "metadata": {
    "collapsed": false,
    "scrolled": false
   },
   "outputs": [
    {
     "data": {
      "text/plain": [
       "{'African American men',\n",
       " 'African American young men',\n",
       " 'Gay men',\n",
       " 'Men',\n",
       " \"Men's dreams\",\n",
       " 'Older men',\n",
       " 'Older people -- Men -- 1800-1899',\n",
       " 'Rickshaw men',\n",
       " 'Strong men',\n",
       " 'Young men'}"
      ]
     },
     "execution_count": 41,
     "metadata": {},
     "output_type": "execute_result"
    }
   ],
   "source": [
    "sim_wordnet('woman')"
   ]
  }
 ],
 "metadata": {
  "kernelspec": {
   "display_name": "Python 3",
   "language": "python",
   "name": "python3"
  },
  "language_info": {
   "codemirror_mode": {
    "name": "ipython",
    "version": 3
   },
   "file_extension": ".py",
   "mimetype": "text/x-python",
   "name": "python",
   "nbconvert_exporter": "python",
   "pygments_lexer": "ipython3",
   "version": "3.6.0"
  }
 },
 "nbformat": 4,
 "nbformat_minor": 2
}
