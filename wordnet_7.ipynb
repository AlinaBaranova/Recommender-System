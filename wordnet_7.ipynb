{
 "cells": [
  {
   "cell_type": "code",
   "execution_count": 40,
   "metadata": {
    "collapsed": false
   },
   "outputs": [],
   "source": [
    "from nltk.corpus import wordnet\n",
    "import json\n",
    "import re"
   ]
  },
  {
   "cell_type": "markdown",
   "metadata": {},
   "source": [
    "Загружаем топики:"
   ]
  },
  {
   "cell_type": "code",
   "execution_count": 5,
   "metadata": {
    "collapsed": true
   },
   "outputs": [],
   "source": [
    "new_topics = json.loads(open('analyzed_topics.json').read())"
   ]
  },
  {
   "cell_type": "markdown",
   "metadata": {},
   "source": [
    "Функция извлекает леммы из списка синсетов:"
   ]
  },
  {
   "cell_type": "code",
   "execution_count": 35,
   "metadata": {
    "collapsed": true
   },
   "outputs": [],
   "source": [
    "def extract_lemmas(syns, lemmasn):\n",
    "    lemmas = []\n",
    "    for syn in syns:\n",
    "        for lemma in syn.lemmas():\n",
    "            name = lemma.name().lower()\n",
    "            if name not in lemmas:\n",
    "                lemmas.append(name)\n",
    "            if len(lemmas) > lemmasn:\n",
    "                return lemmas\n",
    "    return lemmas"
   ]
  },
  {
   "cell_type": "markdown",
   "metadata": {},
   "source": [
    "Функция находит resultsn схожих топиков:"
   ]
  },
  {
   "cell_type": "code",
   "execution_count": 38,
   "metadata": {
    "collapsed": true
   },
   "outputs": [],
   "source": [
    "def sim_wordnet(word, lemmasn=10, resultsn=10):\n",
    "    results = []\n",
    "    syns = wordnet.synsets(word)\n",
    "    lemmas = extract_lemmas(syns, lemmasn)\n",
    "    for lemma in lemmas:\n",
    "        for topic in new_topics:\n",
    "            n = re.search('(\\s|^)' + lemma + '(\\s|$)', topic)\n",
    "            if n is not None:\n",
    "                result = new_topics[topic]\n",
    "                if result not in results:\n",
    "                    results.append(result)\n",
    "                if len(results) > resultsn:\n",
    "                    return results\n",
    "    return results"
   ]
  },
  {
   "cell_type": "code",
   "execution_count": 53,
   "metadata": {
    "collapsed": false
   },
   "outputs": [
    {
     "data": {
      "text/plain": [
       "['African American girls',\n",
       " 'Girls',\n",
       " 'Chorus girls',\n",
       " 'Girl Scouts',\n",
       " 'Infant girls',\n",
       " 'Teenage girls',\n",
       " 'Girls -- United States -- 1890-1899',\n",
       " 'Girls -- 1900-1909',\n",
       " 'Girls -- 1910-1919',\n",
       " 'Gibson girls',\n",
       " 'Girls -- 1870-1879']"
      ]
     },
     "execution_count": 53,
     "metadata": {},
     "output_type": "execute_result"
    }
   ],
   "source": [
    "sim_wordnet('girl', 10, 10)"
   ]
  }
 ],
 "metadata": {
  "kernelspec": {
   "display_name": "Python 3",
   "language": "python",
   "name": "python3"
  },
  "language_info": {
   "codemirror_mode": {
    "name": "ipython",
    "version": 3
   },
   "file_extension": ".py",
   "mimetype": "text/x-python",
   "name": "python",
   "nbconvert_exporter": "python",
   "pygments_lexer": "ipython3",
   "version": "3.6.0"
  }
 },
 "nbformat": 4,
 "nbformat_minor": 2
}
