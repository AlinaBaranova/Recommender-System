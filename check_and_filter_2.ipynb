{
 "cells": [
  {
   "cell_type": "code",
   "execution_count": 1,
   "metadata": {
    "collapsed": true
   },
   "outputs": [],
   "source": [
    "import requests\n",
    "import json\n",
    "import math\n",
    "import re\n",
    "import os\n",
    "import time"
   ]
  },
  {
   "cell_type": "markdown",
   "metadata": {},
   "source": [
    "Выкачиваем названия корневых коллекций:"
   ]
  },
  {
   "cell_type": "code",
   "execution_count": 5,
   "metadata": {
    "collapsed": true
   },
   "outputs": [],
   "source": [
    "auth = 'Token token=avgeck6iayd42klx'"
   ]
  },
  {
   "cell_type": "code",
   "execution_count": 8,
   "metadata": {
    "collapsed": true
   },
   "outputs": [],
   "source": [
    "url = 'http://api.repo.nypl.org/api/v1/items/roots'\n",
    "call = requests.get(url, headers={'Authorization': auth})\n",
    "uuids_col = json.loads(call.text)['nyplAPI']['response']['uuids']['uuid']\n",
    "with open('all_cols_uuids.json', 'w') as outfile:\n",
    "    json.dump(uuids_col, outfile)"
   ]
  },
  {
   "cell_type": "markdown",
   "metadata": {
    "collapsed": false
   },
   "source": [
    "Загружаем массив корневых коллекций:"
   ]
  },
  {
   "cell_type": "code",
   "execution_count": 2,
   "metadata": {
    "collapsed": false
   },
   "outputs": [],
   "source": [
    "uuids_col = json.loads(open('all_cols_uuids.json').read())"
   ]
  },
  {
   "cell_type": "code",
   "execution_count": 22,
   "metadata": {
    "collapsed": false
   },
   "outputs": [
    {
     "data": {
      "text/plain": [
       "4489"
      ]
     },
     "execution_count": 22,
     "metadata": {},
     "output_type": "execute_result"
    }
   ],
   "source": [
    "len(uuids_col)"
   ]
  },
  {
   "cell_type": "code",
   "execution_count": 3,
   "metadata": {
    "collapsed": true
   },
   "outputs": [],
   "source": [
    "url_col = 'http://api.repo.nypl.org/api/v1/collections/'"
   ]
  },
  {
   "cell_type": "markdown",
   "metadata": {},
   "source": [
    "Проверяем, совпадает ли количество заявленных элементов с количеством скачанных:"
   ]
  },
  {
   "cell_type": "code",
   "execution_count": 20,
   "metadata": {
    "collapsed": false
   },
   "outputs": [
    {
     "name": "stdout",
     "output_type": "stream",
     "text": [
      "!!! d6d29460-031a-0133-7ddc-58d385a7b928 801 567\n",
      "!!! a1a9d830-c5a6-012f-00ec-58d385a7bc34 1860 1813\n",
      "!!! 846c47a0-004d-0130-0ebc-58d385a7bc34 9 8\n",
      "!!! 103776c0-0042-0130-23a4-58d385a7bc34 1 0\n"
     ]
    }
   ],
   "source": [
    "i = 0\n",
    "for uuid_col in uuids_col:\n",
    "    i += 1\n",
    "    try:\n",
    "        call = requests.get(url_col + uuid_col, headers={'Authorization': auth})\n",
    "    except:\n",
    "        time.sleep(5)\n",
    "        call = requests.get(url_col + uuid_col, headers={'Authorization': auth})\n",
    "    num_items = json.loads(call.text)['nyplAPI']['response']['numItems']\n",
    "    items = json.loads(open(os.path.join('./topics', 'items_' + uuid_col + '.json')).read())\n",
    "\n",
    "    if int(num_items) != len(items):\n",
    "        print('!!!', uuid_col, num_items, len(items))"
   ]
  },
  {
   "cell_type": "code",
   "execution_count": 21,
   "metadata": {
    "collapsed": false
   },
   "outputs": [
    {
     "data": {
      "text/plain": [
       "4489"
      ]
     },
     "execution_count": 21,
     "metadata": {},
     "output_type": "execute_result"
    }
   ],
   "source": [
    "i"
   ]
  },
  {
   "cell_type": "markdown",
   "metadata": {},
   "source": [
    "Оставляем только элементы, у которых есть топики, и записываем их в файл вида \"topics_COLLECTION-UUID\"; смотрим процент элементов, у которых нет топиков:"
   ]
  },
  {
   "cell_type": "code",
   "execution_count": 3,
   "metadata": {
    "collapsed": false
   },
   "outputs": [],
   "source": [
    "with_topics = 0\n",
    "all_items = 0\n",
    "for root, dirs, files in os.walk('./topics'):\n",
    "    for file in files:\n",
    "        if file.startswith('items_'):\n",
    "            topics = {}\n",
    "            items = json.loads(open(os.path.join('./topics', file), 'r').read())\n",
    "            all_items += len(items)\n",
    "            for item in items:\n",
    "                if items[item] != []:\n",
    "                    topics[item] = items[item]\n",
    "                    with_topics += 1\n",
    "            with open(file.replace('items_', 'topics_'), 'w') as outfile:\n",
    "                json.dump(topics, outfile)\n",
    "print(with_topics/all_items)\n",
    "print(with_topics, all_items)"
   ]
  },
  {
   "cell_type": "markdown",
   "metadata": {},
   "source": [
    "Всего топики есть у 0.5192952658431268 части элементов."
   ]
  },
  {
   "cell_type": "markdown",
   "metadata": {},
   "source": [
    "Элементов с топиками - 397466, без топиков - 367929. Всего - 765395."
   ]
  },
  {
   "cell_type": "markdown",
   "metadata": {},
   "source": [
    "Коллекций с топиками - 3206, без топиков - 1283. Всего - 4489."
   ]
  },
  {
   "cell_type": "markdown",
   "metadata": {},
   "source": [
    "Проверяем, нет ли среди элементов, из которых не извлечены топики, слова \"topic\" (вдруг они ещё как-то по-другому записываются?):"
   ]
  },
  {
   "cell_type": "code",
   "execution_count": 4,
   "metadata": {
    "collapsed": false
   },
   "outputs": [
    {
     "name": "stdout",
     "output_type": "stream",
     "text": [
      "errors_16ad5350-c52e-012f-aecf-58d385a7bc34.json\n",
      "0\n",
      "errors_5261fd50-c52e-012f-85ec-58d385a7bc34.json\n",
      "0\n",
      "errors_a301da20-c52e-012f-cc55-58d385a7bc34.json\n",
      "0\n",
      "errors_b50ab6f0-c52b-012f-5986-58d385a7bc34.json\n",
      "0\n",
      "errors_d6d29460-031a-0133-7ddc-58d385a7b928.json\n",
      "0\n",
      "errors_e5114e30-c52f-012f-993c-58d385a7bc34.json\n",
      "0\n",
      "errors_f7533140-3179-0134-f53a-00505686a51c.json\n",
      "0\n"
     ]
    }
   ],
   "source": [
    "for root, dirs, files in os.walk('./topics'):\n",
    "    for file in files:\n",
    "        if file.startswith('errors'):\n",
    "            print(file)\n",
    "            errors = open('errors.json', 'r').read()\n",
    "            n = re.findall('\"topic\"', errors)\n",
    "            print(len(n))"
   ]
  },
  {
   "cell_type": "markdown",
   "metadata": {
    "collapsed": false
   },
   "source": [
    "Проверили на семи корневых коллекциях, и хватит (запись таких элементов занимает время и память)"
   ]
  },
  {
   "cell_type": "code",
   "execution_count": null,
   "metadata": {
    "collapsed": true
   },
   "outputs": [],
   "source": [
    "http://api.repo.nypl.org/api/v1/collections/be0d4620-c5aa-012f-12ef-58d385a7bc34"
   ]
  }
 ],
 "metadata": {
  "kernelspec": {
   "display_name": "Python 3",
   "language": "python",
   "name": "python3"
  },
  "language_info": {
   "codemirror_mode": {
    "name": "ipython",
    "version": 3
   },
   "file_extension": ".py",
   "mimetype": "text/x-python",
   "name": "python",
   "nbconvert_exporter": "python",
   "pygments_lexer": "ipython3",
   "version": "3.6.0"
  }
 },
 "nbformat": 4,
 "nbformat_minor": 2
}
