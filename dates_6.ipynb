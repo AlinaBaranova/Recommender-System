{
 "cells": [
  {
   "cell_type": "code",
   "execution_count": null,
   "metadata": {
    "collapsed": true
   },
   "outputs": [],
   "source": [
    "import networkx as nx\n",
    "import json\n",
    "from nltk import word_tokenize\n",
    "from nltk.corpus import stopwords"
   ]
  },
  {
   "cell_type": "code",
   "execution_count": null,
   "metadata": {
    "collapsed": true
   },
   "outputs": [],
   "source": [
    "number = re.compile('[0-9]')\n",
    "\n",
    "def extract_numbers(topic):\n",
    "    stop = stopwords.words('english')\n",
    "\n",
    "    tokens = word_tokenize(topic)\n",
    "    punct = ',.()\":;--&?!'\n",
    "    tokens = [token for token in tokens if token not in punct]\n",
    "    tokens = [token for token in tokens if token.lower() not in stop]\n",
    "    \n",
    "    global numbers\n",
    "    global number\n",
    "    for token in tokens:\n",
    "        n = number.search(token)\n",
    "        if n is not None:\n",
    "            if token not in dates:\n",
    "                numbers[token] = []\n",
    "            numbers[token].append(' '.join(tokens))\n"
   ]
  },
  {
   "cell_type": "code",
   "execution_count": null,
   "metadata": {
    "collapsed": true
   },
   "outputs": [],
   "source": [
    "G = nx.read_gexf('topics.gexf')\n",
    "topics = G.nodes()"
   ]
  },
  {
   "cell_type": "code",
   "execution_count": null,
   "metadata": {
    "collapsed": true
   },
   "outputs": [],
   "source": [
    "numbers = {}\n",
    "for topic in topics:\n",
    "    analyze_topic(topic)"
   ]
  },
  {
   "cell_type": "code",
   "execution_count": null,
   "metadata": {
    "collapsed": true
   },
   "outputs": [],
   "source": [
    "len(numbers)"
   ]
  },
  {
   "cell_type": "code",
   "execution_count": null,
   "metadata": {
    "collapsed": true
   },
   "outputs": [],
   "source": [
    "numbers"
   ]
  },
  {
   "cell_type": "code",
   "execution_count": null,
   "metadata": {
    "collapsed": true
   },
   "outputs": [],
   "source": [
    "months = '(?:January|Febrary|March|April|May|June|July|August|September|October|November|December)'\n",
    "year_types = ['[0-9]{2,4}-[0-9]{2,4}(?: (?:B\\.C\\.|A\\.D\\.))?',\n",
    "             '[0-9]{2,4} B\\.C\\.-[0-9]{2,4} A\\.D\\.',\n",
    "             '[0-9]{2,4}(?: (?:B\\.C\\.|A\\.D\\.))?']\n",
    "month_types = ['[0-9]{1,2}-' + months,\n",
    "               '(?:Jan|Feb|Mar|Apr|May|Jun|Jul|Aug|Sep|Oct|Nov|Dec)\\. [0-9]{1,2}',\n",
    "               months + '-' + months,\n",
    "               months + ' [0-9]{1,2}',\n",
    "               months]\n",
    "# month_types = ['[0-9]{1,2}-' + months]\n",
    "century_types = ['[0-9]{1,2}(?:st|nd|rd|th) century',\n",
    "                 '[0-9]{1,2}(?:st|nd|rd|th)-[0-9]{1,2}(?:st|nd|rd|th) centuries']"
   ]
  },
  {
   "cell_type": "code",
   "execution_count": null,
   "metadata": {
    "collapsed": true
   },
   "outputs": [],
   "source": [
    "def extract_dates(topic):\n",
    "    global dates\n",
    "    \n",
    "    year = ''\n",
    "    month = ''\n",
    "    century = ''\n",
    "    for num in year_types:\n",
    "        n = re.search(num, topic)\n",
    "        if n is not None:\n",
    "            year = n.group(0)\n",
    "            break\n",
    "    for num in month_types:\n",
    "        n = re.search(num, topic)\n",
    "        if n is not None:\n",
    "            month = n.group(0)\n",
    "            break\n",
    "    for num in century_types:\n",
    "        n = re.search(num, topic)\n",
    "        if n is not None:\n",
    "            century = n.group(0)\n",
    "            break\n",
    "    if century != '':\n",
    "        if century not in extracted_dates:\n",
    "            dates[century] = []\n",
    "        dates[century].append(topic)\n",
    "#         dates.add(century)\n",
    "    else:\n",
    "        if month != '' and len(year) == 2:\n",
    "            if month not in dates:\n",
    "                dates[month] = []\n",
    "            dates[month].append(topic)\n",
    "#             dates.add(month)\n",
    "        elif month != '' and year != '':\n",
    "            if month + ' ' + year not in dates:\n",
    "                dates[month + ' ' + year] = []\n",
    "            dates[month + ' ' + year].append(topic)\n",
    "#             dates.add(month + ' ' + year)\n",
    "        else:\n",
    "            if month + year != '':\n",
    "                if month + year not in dates:\n",
    "                    dates[month + year] = []\n",
    "                dates[month + year].append(topic)\n",
    "#             dates.add(month + year)"
   ]
  },
  {
   "cell_type": "code",
   "execution_count": null,
   "metadata": {
    "collapsed": true
   },
   "outputs": [],
   "source": [
    "# dates = set()\n",
    "dates = {}\n",
    "for topic in topics:\n",
    "    extract_dates(topic)"
   ]
  },
  {
   "cell_type": "code",
   "execution_count": null,
   "metadata": {
    "collapsed": true
   },
   "outputs": [],
   "source": [
    "dates"
   ]
  }
 ],
 "metadata": {
  "kernelspec": {
   "display_name": "Python 3",
   "language": "python",
   "name": "python3"
  },
  "language_info": {
   "codemirror_mode": {
    "name": "ipython",
    "version": 3
   },
   "file_extension": ".py",
   "mimetype": "text/x-python",
   "name": "python",
   "nbconvert_exporter": "python",
   "pygments_lexer": "ipython3",
   "version": "3.6.0"
  }
 },
 "nbformat": 4,
 "nbformat_minor": 2
}
